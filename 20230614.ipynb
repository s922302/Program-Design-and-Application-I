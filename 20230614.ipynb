{
 "cells": [
  {
   "cell_type": "code",
   "execution_count": 2,
   "id": "748db3c5",
   "metadata": {},
   "outputs": [
    {
     "data": {
      "text/plain": [
       "list"
      ]
     },
     "execution_count": 2,
     "metadata": {},
     "output_type": "execute_result"
    }
   ],
   "source": [
    "a = []\n",
    "\n",
    "a.append(3)\n",
    "\n",
    "type(a)"
   ]
  },
  {
   "cell_type": "code",
   "execution_count": 5,
   "id": "3662e4e8",
   "metadata": {},
   "outputs": [],
   "source": [
    "b = tuple(a)"
   ]
  },
  {
   "cell_type": "code",
   "execution_count": 7,
   "id": "f09fc3af",
   "metadata": {},
   "outputs": [
    {
     "data": {
      "text/plain": [
       "tuple"
      ]
     },
     "execution_count": 7,
     "metadata": {},
     "output_type": "execute_result"
    }
   ],
   "source": [
    "type(b)"
   ]
  },
  {
   "cell_type": "code",
   "execution_count": 8,
   "id": "93718ea6",
   "metadata": {},
   "outputs": [
    {
     "data": {
      "text/plain": [
       "[3]"
      ]
     },
     "execution_count": 8,
     "metadata": {},
     "output_type": "execute_result"
    }
   ],
   "source": [
    "d = list(b)\n",
    "\n",
    "d"
   ]
  },
  {
   "cell_type": "code",
   "execution_count": 2,
   "id": "8aa0dcad",
   "metadata": {},
   "outputs": [
    {
     "name": "stdout",
     "output_type": "stream",
     "text": [
      "6\n",
      "6\n",
      "5\n",
      "None\n",
      "300\n"
     ]
    }
   ],
   "source": [
    "dict1 = {\"台北市\":6, \"新北市\":2, \"桃園市\":5, \"台中市\":8, \"台南市\":3, \"高雄市\":9}\n",
    "\n",
    "print(dict1[\"台北市\"])\n",
    "\n",
    "# print(dict1[\"嘉義市\"])\n",
    "\n",
    "print(dict1.get(\"台北市\"))\n",
    "\n",
    "print(dict1.get(\"桃園市\"))\n",
    "\n",
    "print(dict1.get(\"嘉義市\"))\n",
    "\n",
    "print(dict1.get(\"屏東市\", 300))"
   ]
  },
  {
   "cell_type": "code",
   "execution_count": 21,
   "id": "6fb68e79",
   "metadata": {},
   "outputs": [
    {
     "name": "stdout",
     "output_type": "stream",
     "text": [
      "輸入要查詢的六都名稱:屏東市\n",
      "六都中沒有「屏東市」城市！\n"
     ]
    }
   ],
   "source": [
    "dict1 = {\"台北市\":6, \"新北市\":2, \"桃園市\":5, \"台中市\":8, \"台南市\":3, \"高雄市\":9}\n",
    "\n",
    "name = input(\"輸入要查詢的六都名稱:\")\n",
    "\n",
    "PM25 = dict1.get(name)\n",
    "\n",
    "if PM25 == None:  \n",
    "    print(\"六都中沒有「\" + name + \"」城市！\")\n",
    "else:  \n",
    "    print(name + \" 今天的 PM2.5 值為：\" + str(dict1[name]))"
   ]
  },
  {
   "cell_type": "code",
   "execution_count": 12,
   "id": "741acf5e",
   "metadata": {},
   "outputs": [
    {
     "name": "stdout",
     "output_type": "stream",
     "text": [
      "請輸入一血型：D\n"
     ]
    },
    {
     "ename": "KeyError",
     "evalue": "'D'",
     "output_type": "error",
     "traceback": [
      "\u001b[1;31m---------------------------------------------------------------------------\u001b[0m",
      "\u001b[1;31mKeyError\u001b[0m                                  Traceback (most recent call last)",
      "Input \u001b[1;32mIn [12]\u001b[0m, in \u001b[0;36m<cell line: 5>\u001b[1;34m()\u001b[0m\n\u001b[0;32m      1\u001b[0m dict2 \u001b[38;5;241m=\u001b[39m {\u001b[38;5;124m\"\u001b[39m\u001b[38;5;124mA\u001b[39m\u001b[38;5;124m\"\u001b[39m:\u001b[38;5;124m\"\u001b[39m\u001b[38;5;124m內向穩重\u001b[39m\u001b[38;5;124m\"\u001b[39m, \u001b[38;5;124m\"\u001b[39m\u001b[38;5;124mB\u001b[39m\u001b[38;5;124m\"\u001b[39m:\u001b[38;5;124m\"\u001b[39m\u001b[38;5;124m外向樂觀\u001b[39m\u001b[38;5;124m\"\u001b[39m, \u001b[38;5;124m\"\u001b[39m\u001b[38;5;124mO\u001b[39m\u001b[38;5;124m\"\u001b[39m:\u001b[38;5;124m\"\u001b[39m\u001b[38;5;124m堅強自信\u001b[39m\u001b[38;5;124m\"\u001b[39m, \u001b[38;5;124m\"\u001b[39m\u001b[38;5;124mAB\u001b[39m\u001b[38;5;124m\"\u001b[39m:\u001b[38;5;124m\"\u001b[39m\u001b[38;5;124m聰明自然\u001b[39m\u001b[38;5;124m\"\u001b[39m}\n\u001b[0;32m      3\u001b[0m blood_type \u001b[38;5;241m=\u001b[39m \u001b[38;5;28minput\u001b[39m(\u001b[38;5;124m\"\u001b[39m\u001b[38;5;124m請輸入一血型：\u001b[39m\u001b[38;5;124m\"\u001b[39m)\n\u001b[1;32m----> 5\u001b[0m \u001b[38;5;28mprint\u001b[39m(\u001b[38;5;124m\"\u001b[39m\u001b[38;5;132;01m{}\u001b[39;00m\u001b[38;5;124m血型的個性為：\u001b[39m\u001b[38;5;132;01m{}\u001b[39;00m\u001b[38;5;124m\"\u001b[39m\u001b[38;5;241m.\u001b[39mformat(blood_type, \u001b[43mdict2\u001b[49m\u001b[43m[\u001b[49m\u001b[43mblood_type\u001b[49m\u001b[43m]\u001b[49m))\n",
      "\u001b[1;31mKeyError\u001b[0m: 'D'"
     ]
    }
   ],
   "source": [
    "dict2 = {\"A\":\"內向穩重\", \"B\":\"外向樂觀\", \"O\":\"堅強自信\", \"AB\":\"聰明自然\"}\n",
    "\n",
    "blood_type = input(\"請輸入一血型：\")\n",
    "\n",
    "print(\"{}血型的個性為：{}\".format(blood_type, dict2[blood_type]))"
   ]
  },
  {
   "cell_type": "code",
   "execution_count": 14,
   "id": "78931e1e",
   "metadata": {},
   "outputs": [
    {
     "name": "stdout",
     "output_type": "stream",
     "text": [
      "請輸入一血型：D\n",
      "沒有「D」血型！\n"
     ]
    }
   ],
   "source": [
    "dict2 = {\"A\":\"內向穩重\", \"B\":\"外向樂觀\", \"O\":\"堅強自信\", \"AB\":\"聰明自然\"}\n",
    "\n",
    "blood_type = input(\"請輸入一血型：\")\n",
    "\n",
    "if dict2.get(blood_type) == None :\n",
    "    print(\"沒有「{}」血型！\".format(blood_type))\n",
    "else :\n",
    "    print(\"{}血型的個性為：{}\".format(blood_type, dict2[blood_type]))"
   ]
  },
  {
   "cell_type": "code",
   "execution_count": 24,
   "id": "17914862",
   "metadata": {},
   "outputs": [
    {
     "name": "stdout",
     "output_type": "stream",
     "text": [
      "False\n",
      "True\n"
     ]
    }
   ],
   "source": [
    "dict2 = {\"A\":\"內向穩重\", \"B\":\"外向樂觀\", \"O\":\"堅強自信\", \"AB\":\"聰明自然\"}\n",
    "\n",
    "b = \"D\"\n",
    "\n",
    "print(b in dict2)\n",
    "\n",
    "print(b not in dict2)"
   ]
  },
  {
   "cell_type": "code",
   "execution_count": 16,
   "id": "4c77b5a8",
   "metadata": {},
   "outputs": [
    {
     "data": {
      "text/plain": [
       "True"
      ]
     },
     "execution_count": 16,
     "metadata": {},
     "output_type": "execute_result"
    }
   ],
   "source": [
    "ABC = [1, 2, 3]\n",
    "\n",
    "2 in ABC"
   ]
  },
  {
   "cell_type": "code",
   "execution_count": 27,
   "id": "337e4cea",
   "metadata": {},
   "outputs": [
    {
     "name": "stdout",
     "output_type": "stream",
     "text": [
      "請輸入一血型：A\n",
      "A血型的個性為：內向穩重\n"
     ]
    }
   ],
   "source": [
    "dict2 = {\"A\":\"內向穩重\", \"B\":\"外向樂觀\", \"O\":\"堅強自信\", \"AB\":\"聰明自然\"}\n",
    "\n",
    "blood_type = input(\"請輸入一血型：\")\n",
    "\n",
    "if blood_type in dict2 :\n",
    "    print(\"{}血型的個性為：{}\".format(blood_type, dict2[blood_type]))\n",
    "else :\n",
    "    print(\"沒有「{}」血型！\".format(blood_type))"
   ]
  },
  {
   "cell_type": "code",
   "execution_count": 23,
   "id": "e2cfc9aa",
   "metadata": {},
   "outputs": [
    {
     "name": "stdout",
     "output_type": "stream",
     "text": [
      "請輸入一血型：D\n",
      "沒有「D」血型！\n"
     ]
    }
   ],
   "source": [
    "dict2 = {\"A\":\"內向穩重\", \"B\":\"外向樂觀\", \"O\":\"堅強自信\", \"AB\":\"聰明自然\"}\n",
    "\n",
    "blood_type = input(\"請輸入一血型：\")\n",
    "\n",
    "if blood_type not in dict2 :\n",
    "    print(\"沒有「{}」血型！\".format(blood_type))\n",
    "else :\n",
    "    print(\"{}血型的個性為：{}\".format(blood_type, dict2[blood_type]))"
   ]
  },
  {
   "cell_type": "code",
   "execution_count": 45,
   "id": "95901b40",
   "metadata": {},
   "outputs": [
    {
     "name": "stdout",
     "output_type": "stream",
     "text": [
      "dict_keys(['A', 'B', 'O', 'AB'])\n",
      "['A', 'B', 'O', 'AB']\n",
      "B\n"
     ]
    }
   ],
   "source": [
    "dict2 = {\"A\":\"內向穩重\", \"B\":\"外向樂觀\", \"O\":\"堅強自信\", \"AB\":\"聰明自然\"}\n",
    "\n",
    "key1 = dict2.keys()\n",
    "\n",
    "print(key1)\n",
    "\n",
    "key2 = list(dict2.keys())\n",
    "\n",
    "print(key2)\n",
    "print(key2[1])"
   ]
  },
  {
   "cell_type": "code",
   "execution_count": 44,
   "id": "4360b3bc",
   "metadata": {},
   "outputs": [
    {
     "name": "stdout",
     "output_type": "stream",
     "text": [
      "dict_values(['內向穩重', '外向樂觀', '堅強自信', '聰明自然'])\n",
      "['內向穩重', '外向樂觀', '堅強自信', '聰明自然']\n",
      "外向樂觀\n"
     ]
    }
   ],
   "source": [
    "dict2 = {\"A\":\"內向穩重\", \"B\":\"外向樂觀\", \"O\":\"堅強自信\", \"AB\":\"聰明自然\"}\n",
    "\n",
    "value1 = dict2.values()\n",
    "\n",
    "print(value1)\n",
    "\n",
    "value2 = list(dict2.values())\n",
    "\n",
    "print(value2)\n",
    "print(value2[1])"
   ]
  },
  {
   "cell_type": "code",
   "execution_count": 43,
   "id": "d32a186b",
   "metadata": {},
   "outputs": [
    {
     "name": "stdout",
     "output_type": "stream",
     "text": [
      "dict_items([('A', '內向穩重'), ('B', '外向樂觀'), ('O', '堅強自信'), ('AB', '聰明自然')])\n",
      "[('A', '內向穩重'), ('B', '外向樂觀'), ('O', '堅強自信'), ('AB', '聰明自然')]\n",
      "('O', '堅強自信')\n",
      "O\n"
     ]
    }
   ],
   "source": [
    "dict2 = {\"A\":\"內向穩重\", \"B\":\"外向樂觀\", \"O\":\"堅強自信\", \"AB\":\"聰明自然\"}\n",
    "\n",
    "item1 = dict2.items()\n",
    "\n",
    "print(item1)\n",
    "\n",
    "item2 = list(dict2.items())\n",
    "\n",
    "print(item2)\n",
    "\n",
    "print(item2[2])\n",
    "print(item2[2][0])"
   ]
  },
  {
   "cell_type": "code",
   "execution_count": 53,
   "id": "9f28162d",
   "metadata": {},
   "outputs": [
    {
     "name": "stdout",
     "output_type": "stream",
     "text": [
      "[('鼠', '親切和藹'), ('牛', '保守努力'), ('虎', '熱情大膽'), ('兔', '溫柔仁慈')]\n",
      "4\n",
      "生肖屬 鼠 的性格特癥為 親切和藹\n",
      "生肖屬 牛 的性格特癥為 保守努力\n",
      "生肖屬 虎 的性格特癥為 熱情大膽\n",
      "生肖屬 兔 的性格特癥為 溫柔仁慈\n"
     ]
    }
   ],
   "source": [
    "dict1 = {\"鼠\":\"親切和藹\", \"牛\":\"保守努力\", \"虎\":\"熱情大膽\", \"兔\":\"溫柔仁慈\"}\n",
    "\n",
    "item1 = list(dict1.items())\n",
    "\n",
    "print(item1)\n",
    "print(len(item1))\n",
    "\n",
    "for i in range(len(item1)):\n",
    "    print(\"生肖屬 {} 的性格特癥為 {}\".format(item1[i][0], item1[i][1]))"
   ]
  },
  {
   "cell_type": "code",
   "execution_count": 58,
   "id": "b221dd52",
   "metadata": {},
   "outputs": [
    {
     "name": "stdout",
     "output_type": "stream",
     "text": [
      "[('鼠', '親切和藹'), ('牛', '保守努力'), ('虎', '熱情大膽'), ('兔', '溫柔仁慈')]\n",
      "生肖屬 鼠 的性格特癥為 親切和藹\n",
      "生肖屬 牛 的性格特癥為 保守努力\n",
      "生肖屬 虎 的性格特癥為 熱情大膽\n",
      "生肖屬 兔 的性格特癥為 溫柔仁慈\n"
     ]
    }
   ],
   "source": [
    "dict1 = {\"鼠\":\"親切和藹\", \"牛\":\"保守努力\", \"虎\":\"熱情大膽\", \"兔\":\"溫柔仁慈\"}\n",
    "\n",
    "item1 = list(dict1.items())\n",
    "\n",
    "print(item1)\n",
    "\n",
    "for name, nature in item1 :\n",
    "    print(\"生肖屬 {} 的性格特癥為 {}\".format(name, nature))\n",
    "    # print(\"生肖屬 %s 的性格特癥為 %s\" % (name, nature))"
   ]
  },
  {
   "cell_type": "code",
   "execution_count": 56,
   "id": "dca94610",
   "metadata": {},
   "outputs": [
    {
     "name": "stdout",
     "output_type": "stream",
     "text": [
      "1\n",
      "2\n",
      "3\n"
     ]
    }
   ],
   "source": [
    "t = [1, 2, 3]\n",
    "\n",
    "for i in t :\n",
    "    print(i)"
   ]
  },
  {
   "cell_type": "code",
   "execution_count": 59,
   "id": "d35e4c74",
   "metadata": {},
   "outputs": [
    {
     "data": {
      "text/plain": [
       "11"
      ]
     },
     "execution_count": 59,
     "metadata": {},
     "output_type": "execute_result"
    }
   ],
   "source": [
    "5 + 6"
   ]
  },
  {
   "cell_type": "code",
   "execution_count": 61,
   "id": "d975347a",
   "metadata": {},
   "outputs": [
    {
     "data": {
      "text/plain": [
       "'5Y'"
      ]
     },
     "execution_count": 61,
     "metadata": {},
     "output_type": "execute_result"
    }
   ],
   "source": [
    "'5' + 'Y'"
   ]
  },
  {
   "cell_type": "code",
   "execution_count": 65,
   "id": "0136d9a0",
   "metadata": {},
   "outputs": [
    {
     "name": "stdout",
     "output_type": "stream",
     "text": [
      "9\n",
      "h\n"
     ]
    }
   ],
   "source": [
    "string1 = \"abcdefghi\"\n",
    "\n",
    "print(len(string1))\n",
    "\n",
    "print(string1[7])"
   ]
  },
  {
   "cell_type": "code",
   "execution_count": 66,
   "id": "151e6d6b",
   "metadata": {},
   "outputs": [
    {
     "data": {
      "text/plain": [
       "'666'"
      ]
     },
     "execution_count": 66,
     "metadata": {},
     "output_type": "execute_result"
    }
   ],
   "source": [
    "'6' * 3"
   ]
  },
  {
   "cell_type": "code",
   "execution_count": 67,
   "id": "9bcbf7e6",
   "metadata": {},
   "outputs": [
    {
     "data": {
      "text/plain": [
       "18"
      ]
     },
     "execution_count": 67,
     "metadata": {},
     "output_type": "execute_result"
    }
   ],
   "source": [
    "6 * 3"
   ]
  },
  {
   "cell_type": "code",
   "execution_count": 72,
   "id": "05f1c92c",
   "metadata": {},
   "outputs": [
    {
     "name": "stdout",
     "output_type": "stream",
     "text": [
      "['I', 'am', 'a', 'boy']\n",
      "boy\n",
      "o\n"
     ]
    }
   ],
   "source": [
    "sentence1 = \"I am a boy\"\n",
    "\n",
    "list1 = sentence1.split(\" \")\n",
    "\n",
    "print(list1)\n",
    "\n",
    "print(list1[3])\n",
    "\n",
    "print(list1[3][1])"
   ]
  },
  {
   "cell_type": "code",
   "execution_count": 3,
   "id": "2b9cfefa",
   "metadata": {},
   "outputs": [
    {
     "name": "stdout",
     "output_type": "stream",
     "text": [
      "此方程式 2 根分別為 1.0 以及 0.5\n"
     ]
    }
   ],
   "source": [
    "def compute(a, b, c) :\n",
    "    delta = ( b ** 2 ) - 4 * a * c\n",
    "    if delta < 0 :\n",
    "        print(\"此方程式沒有實數根\")\n",
    "    elif delta == 0 :\n",
    "        root1 = -b / (2 * a)\n",
    "        print(\"此方程式重根且根為{}\".format(root1))\n",
    "    else :\n",
    "        root1 = ( -b + ( delta ** 0.5 ) ) / (2 * a)\n",
    "        root2 = ( -b - ( delta ** 0.5 ) ) / (2 * a)\n",
    "        print(\"此方程式 2 根分別為 {} 以及 {}\".format(root1, root2))\n",
    "\n",
    "compute(2, -3, 1)"
   ]
  },
  {
   "cell_type": "code",
   "execution_count": 6,
   "id": "c5348cc7",
   "metadata": {},
   "outputs": [
    {
     "name": "stdout",
     "output_type": "stream",
     "text": [
      "請輸入X平方項係數2\n",
      "請輸入X項係數-3\n",
      "請輸入常數項1\n",
      "1.0, 0.5\n"
     ]
    }
   ],
   "source": [
    "def compute(a, b, c) :\n",
    "    delta = ( b ** 2 ) - 4 * a * c\n",
    "    if delta < 0 :\n",
    "        return None\n",
    "    elif delta == 0 :\n",
    "        return -b / (2 * a)\n",
    "    else :\n",
    "        root1 = ( -b + ( delta ** 0.5 ) ) / (2 * a)\n",
    "        root2 = ( -b - ( delta ** 0.5 ) ) / (2 * a)\n",
    "        return str(root1) + \", \" + str(root2)\n",
    "\n",
    "a = eval(input(\"請輸入X平方項係數\"))\n",
    "b = eval(input(\"請輸入X項係數\"))\n",
    "c = eval(input(\"請輸入常數項\"))\n",
    "\n",
    "result = compute(a, b, c)\n",
    "\n",
    "if result == None :\n",
    "    print(\"Your equation has no root.\")\n",
    "else :\n",
    "    print(result)"
   ]
  },
  {
   "cell_type": "code",
   "execution_count": null,
   "id": "9dab5c5b",
   "metadata": {},
   "outputs": [],
   "source": []
  }
 ],
 "metadata": {
  "kernelspec": {
   "display_name": "Python 3",
   "language": "python",
   "name": "python3"
  },
  "language_info": {
   "codemirror_mode": {
    "name": "ipython",
    "version": 3
   },
   "file_extension": ".py",
   "mimetype": "text/x-python",
   "name": "python",
   "nbconvert_exporter": "python",
   "pygments_lexer": "ipython3",
   "version": "3.8.8"
  }
 },
 "nbformat": 4,
 "nbformat_minor": 5
}
