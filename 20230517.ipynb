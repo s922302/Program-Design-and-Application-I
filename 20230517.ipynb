{
 "cells": [
  {
   "cell_type": "code",
   "execution_count": 7,
   "id": "01e56acc",
   "metadata": {},
   "outputs": [
    {
     "name": "stdout",
     "output_type": "stream",
     "text": [
      "請輸入一個期中考分數(0~100):55\n",
      "請輸入一個期末考分數(0~100):78\n",
      "總分 68.8 D\n"
     ]
    }
   ],
   "source": [
    "mid = eval(input(\"請輸入一個期中考分數(0~100):\"))\n",
    "\n",
    "final = eval(input(\"請輸入一個期末考分數(0~100):\"))\n",
    "\n",
    "grade = 0.4 * mid + 0.6 * final\n",
    "\n",
    "def rank(x) :\n",
    "    if x > 100 or x < 0 :\n",
    "        print(\"超出範圍\")\n",
    "    elif x >= 90 :\n",
    "        print(\"總分 {} A\".format(x))\n",
    "    elif 80 <= x < 90 :\n",
    "        print(\"總分 {} B\".format(x))\n",
    "    elif 70 <= x < 80 :\n",
    "        print(\"總分 {} C\".format(x))\n",
    "    elif 60 <= x < 70 :\n",
    "        print(\"總分 {} D\".format(x))\n",
    "    else:\n",
    "        print(\"總分 {} E\".format(x))\n",
    "\n",
    "rank(grade)"
   ]
  },
  {
   "cell_type": "code",
   "execution_count": 21,
   "id": "1b678dd3",
   "metadata": {},
   "outputs": [
    {
     "name": "stdout",
     "output_type": "stream",
     "text": [
      "輸入正整數 m: 3\n",
      "輸入正整數 n: 4\n",
      "1  2  3  4  \n",
      "5  6  7  8  \n",
      "9  10  11  12  \n"
     ]
    }
   ],
   "source": [
    "def f(M, N):\n",
    "    c = 1\n",
    "    for m in range(M):\n",
    "        for n in range(N):\n",
    "            # print(\"{}\".format(c), end = \"\\t\")\n",
    "            print(c, end = \"  \")\n",
    "            c += 1\n",
    "        else:\n",
    "            print()\n",
    "\n",
    "M = eval(input('輸入正整數 m: '))\n",
    "N = eval(input('輸入正整數 n: '))\n",
    "f(M, N)"
   ]
  },
  {
   "cell_type": "code",
   "execution_count": 23,
   "id": "5eff34d1",
   "metadata": {},
   "outputs": [
    {
     "name": "stdout",
     "output_type": "stream",
     "text": [
      "請輸入一個數字:7\n"
     ]
    },
    {
     "data": {
      "text/plain": [
       "False"
      ]
     },
     "execution_count": 23,
     "metadata": {},
     "output_type": "execute_result"
    }
   ],
   "source": [
    "def f(K) :\n",
    "    if K % 2 == 0 :\n",
    "        return True\n",
    "    else :\n",
    "        return False\n",
    "\n",
    "num =  eval(input(\"請輸入一個數字:\"))    \n",
    "f(num)"
   ]
  },
  {
   "cell_type": "code",
   "execution_count": 27,
   "id": "a4f0ea36",
   "metadata": {},
   "outputs": [
    {
     "data": {
      "text/plain": [
       "bool"
      ]
     },
     "execution_count": 27,
     "metadata": {},
     "output_type": "execute_result"
    }
   ],
   "source": [
    "def f(K) :\n",
    "    if K % 2 == 0 :\n",
    "        return True\n",
    "    else :\n",
    "        return False\n",
    "\n",
    "type(f(11))"
   ]
  },
  {
   "cell_type": "code",
   "execution_count": 35,
   "id": "e410efe7",
   "metadata": {},
   "outputs": [
    {
     "name": "stdout",
     "output_type": "stream",
     "text": [
      "6! = 720\n"
     ]
    }
   ],
   "source": [
    "def f(num) :\n",
    "    if num == 0 or num == 1 :\n",
    "        print(\"{}! = 1\".format(num))\n",
    "    else :\n",
    "        temp = 1\n",
    "        for i in range(1, num + 1) :\n",
    "            temp = temp * i\n",
    "        print(\"{}! = {}\".format(num, temp))\n",
    "\n",
    "f(6)"
   ]
  },
  {
   "cell_type": "code",
   "execution_count": 48,
   "id": "2ca728f5",
   "metadata": {},
   "outputs": [
    {
     "data": {
      "text/plain": [
       "[0,\n",
       " 1,\n",
       " 1,\n",
       " 2,\n",
       " 3,\n",
       " 5,\n",
       " 8,\n",
       " 13,\n",
       " 21,\n",
       " 34,\n",
       " 55,\n",
       " 89,\n",
       " 144,\n",
       " 233,\n",
       " 377,\n",
       " 610,\n",
       " 987,\n",
       " 1597,\n",
       " 2584,\n",
       " 4181]"
      ]
     },
     "execution_count": 48,
     "metadata": {},
     "output_type": "execute_result"
    }
   ],
   "source": [
    "result = [0, 1]\n",
    "\n",
    "def Fibo(n) :\n",
    "    for i in range(2, n) :\n",
    "        result.append(result[i-1] + result[i-2])\n",
    "    return result\n",
    "\n",
    "Fibo(20)"
   ]
  },
  {
   "cell_type": "code",
   "execution_count": 47,
   "id": "14b3a969",
   "metadata": {},
   "outputs": [
    {
     "data": {
      "text/plain": [
       "[0, 1, 1, 2, 3]"
      ]
     },
     "execution_count": 47,
     "metadata": {},
     "output_type": "execute_result"
    }
   ],
   "source": [
    "result = []\n",
    "\n",
    "def Fibo(n) :\n",
    "    result.append(0)\n",
    "    result.append(1)\n",
    "    for i in range(2, n) :\n",
    "        result.append(result[i-1] + result[i-2])\n",
    "    return result\n",
    "\n",
    "Fibo(5)"
   ]
  },
  {
   "cell_type": "code",
   "execution_count": null,
   "id": "8c202e59",
   "metadata": {},
   "outputs": [],
   "source": []
  }
 ],
 "metadata": {
  "kernelspec": {
   "display_name": "Python 3 (ipykernel)",
   "language": "python",
   "name": "python3"
  },
  "language_info": {
   "codemirror_mode": {
    "name": "ipython",
    "version": 3
   },
   "file_extension": ".py",
   "mimetype": "text/x-python",
   "name": "python",
   "nbconvert_exporter": "python",
   "pygments_lexer": "ipython3",
   "version": "3.9.13"
  }
 },
 "nbformat": 4,
 "nbformat_minor": 5
}
