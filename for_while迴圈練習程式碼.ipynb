{
 "cells": [
  {
   "cell_type": "code",
   "execution_count": 12,
   "id": "d9f42b82",
   "metadata": {},
   "outputs": [
    {
     "name": "stdout",
     "output_type": "stream",
     "text": [
      "請給定一任意數字：4\n",
      "給定一任意數字 4，其階乘結果為 24\n",
      "給定一任意數字 4.000000，其階乘結果為 24.000000\n"
     ]
    }
   ],
   "source": [
    "num = eval(input(\"請給定一任意數字：\"))\n",
    "\n",
    "result = 1\n",
    "\n",
    "for i in range(1, num + 1) :\n",
    "    result = result * i\n",
    "\n",
    "print(\"給定一任意數字 {}，其階乘結果為 {}\".format(num, result))\n",
    "\n",
    "print(\"給定一任意數字 %f，其階乘結果為 %f\" % (num, result))"
   ]
  },
  {
   "cell_type": "code",
   "execution_count": 11,
   "id": "a5a17ad0",
   "metadata": {},
   "outputs": [
    {
     "data": {
      "text/plain": [
       "[1, 2, 3, 4]"
      ]
     },
     "execution_count": 11,
     "metadata": {},
     "output_type": "execute_result"
    }
   ],
   "source": [
    "list(range(1,5))"
   ]
  },
  {
   "cell_type": "code",
   "execution_count": 18,
   "id": "2337f1ff",
   "metadata": {},
   "outputs": [
    {
     "name": "stdout",
     "output_type": "stream",
     "text": [
      "請給定一任意數字：100\n",
      "給定一任意數字 100，從 1 到 100 的總和為 5050 \n",
      "給定一任意數字 100，從 1 到 100 的總和為 5050 \n"
     ]
    }
   ],
   "source": [
    "num = eval(input(\"請給定一任意數字：\"))\n",
    "\n",
    "result = 0\n",
    "\n",
    "for i in range(1, num + 1) :\n",
    "    result = result + i\n",
    "\n",
    "print(\"給定一任意數字 {}，從 1 到 {} 的總和為 {} \".format(num, num, result))\n",
    "print(\"給定一任意數字 %d，從 1 到 %d 的總和為 %d \" % (num, num, result))"
   ]
  },
  {
   "cell_type": "code",
   "execution_count": 17,
   "id": "79ccae03",
   "metadata": {},
   "outputs": [
    {
     "name": "stdout",
     "output_type": "stream",
     "text": [
      "請給定一任意數字：100\n",
      "給定一任意數字 100，從 1 到 100 的總和為 5050 \n",
      "給定一任意數字 100，從 1 到 100 的總和為 5050 \n"
     ]
    }
   ],
   "source": [
    "num = eval(input(\"請給定一任意數字：\"))\n",
    "\n",
    "result = 0\n",
    "temp = 1\n",
    "\n",
    "while temp < (num + 1) :\n",
    "    result = result + temp\n",
    "    temp = temp + 1\n",
    "\n",
    "print(\"給定一任意數字 {}，從 1 到 {} 的總和為 {} \".format(num, num, result))\n",
    "print(\"給定一任意數字 %d，從 1 到 %d 的總和為 %d \" % (num, num, result))"
   ]
  },
  {
   "cell_type": "code",
   "execution_count": 19,
   "id": "f764d0da",
   "metadata": {},
   "outputs": [
    {
     "name": "stdout",
     "output_type": "stream",
     "text": [
      "請給定一任意數字：3\n",
      "請給定一任意數字：5\n",
      "從 3 到 5 的總和為 12 \n",
      "從 3 到 5 的總和為 12 \n"
     ]
    }
   ],
   "source": [
    "a = eval(input(\"請給定一任意數字：\"))\n",
    "\n",
    "b = eval(input(\"請給定一任意數字：\"))\n",
    "\n",
    "result = 0\n",
    "\n",
    "for i in range(a, b + 1) :\n",
    "    result = result + i\n",
    "\n",
    "print(\"從 {} 到 {} 的總和為 {} \".format(a, b, result))\n",
    "print(\"從 %d 到 %d 的總和為 %d \" % (a, b, result))"
   ]
  },
  {
   "cell_type": "code",
   "execution_count": 23,
   "id": "6422be0f",
   "metadata": {},
   "outputs": [
    {
     "name": "stdout",
     "output_type": "stream",
     "text": [
      "請給定一任意數字：3\n",
      "請給定一任意數字：5\n",
      "從 3 到 5 的總和為 12 \n",
      "從 3 到 5 的總和為 12 \n"
     ]
    }
   ],
   "source": [
    "a = eval(input(\"請給定一任意數字：\"))\n",
    "b = eval(input(\"請給定一任意數字：\"))\n",
    "\n",
    "result = 0\n",
    "temp = a\n",
    "\n",
    "while temp < (b + 1) :\n",
    "    result = result + temp\n",
    "    temp = temp + 1\n",
    "\n",
    "print(\"從 {} 到 {} 的總和為 {} \".format(a, b, result))\n",
    "print(\"從 %d 到 %d 的總和為 %d \" % (a, b, result))"
   ]
  },
  {
   "cell_type": "code",
   "execution_count": 26,
   "id": "839861e0",
   "metadata": {},
   "outputs": [
    {
     "name": "stdout",
     "output_type": "stream",
     "text": [
      "請給定一任意數字：3\n",
      "請給定一任意數字：5\n",
      "從 3 到 5 的個數為 3、總和為 12、平均數為 4.0 \n",
      "從 3 到 5 的個數為 3、總和為 12、平均數為 4.000000 \n"
     ]
    }
   ],
   "source": [
    "a = eval(input(\"請給定一任意數字：\"))\n",
    "b = eval(input(\"請給定一任意數字：\"))\n",
    "\n",
    "result = 0\n",
    "num = 0\n",
    "\n",
    "for i in range(a, b + 1) :\n",
    "    result = result + i\n",
    "    num = num + 1\n",
    "\n",
    "average = result / num\n",
    "\n",
    "print(\"從 {} 到 {} 的個數為 {}、總和為 {}、平均數為 {} \".format(a, b, num, result, average))\n",
    "print(\"從 %d 到 %d 的個數為 %d、總和為 %d、平均數為 %f \" % (a, b, num, result, average))"
   ]
  },
  {
   "cell_type": "code",
   "execution_count": 27,
   "id": "41ecd8ad",
   "metadata": {},
   "outputs": [
    {
     "name": "stdout",
     "output_type": "stream",
     "text": [
      "請給定一任意數字：3\n",
      "請給定一任意數字：5\n",
      "從 3 到 5 的個數為 3、總和為 12、平均數為 4.0 \n",
      "從 3 到 5 的個數為 3、總和為 12、平均數為 4.000000 \n"
     ]
    }
   ],
   "source": [
    "a = eval(input(\"請給定一任意數字：\"))\n",
    "b = eval(input(\"請給定一任意數字：\"))\n",
    "\n",
    "result = 0\n",
    "num = 0\n",
    "temp = a\n",
    "\n",
    "while temp < (b + 1) :\n",
    "    result = result + temp\n",
    "    temp = temp + 1\n",
    "    num = num + 1\n",
    "\n",
    "average = result / num\n",
    "\n",
    "print(\"從 {} 到 {} 的個數為 {}、總和為 {}、平均數為 {} \".format(a, b, num, result, average))\n",
    "print(\"從 %d 到 %d 的個數為 %d、總和為 %d、平均數為 %f \" % (a, b, num, result, average))"
   ]
  },
  {
   "cell_type": "code",
   "execution_count": null,
   "id": "664340f2",
   "metadata": {},
   "outputs": [],
   "source": []
  }
 ],
 "metadata": {
  "kernelspec": {
   "display_name": "Python 3 (ipykernel)",
   "language": "python",
   "name": "python3"
  },
  "language_info": {
   "codemirror_mode": {
    "name": "ipython",
    "version": 3
   },
   "file_extension": ".py",
   "mimetype": "text/x-python",
   "name": "python",
   "nbconvert_exporter": "python",
   "pygments_lexer": "ipython3",
   "version": "3.9.13"
  }
 },
 "nbformat": 4,
 "nbformat_minor": 5
}
