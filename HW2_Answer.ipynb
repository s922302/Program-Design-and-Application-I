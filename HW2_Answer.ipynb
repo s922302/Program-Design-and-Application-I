{
 "cells": [
  {
   "cell_type": "markdown",
   "metadata": {},
   "source": [
    "# 第一題"
   ]
  },
  {
   "cell_type": "code",
   "execution_count": 4,
   "metadata": {},
   "outputs": [
    {
     "name": "stdout",
     "output_type": "stream",
     "text": [
      "13 26 39 52 65 78 91 "
     ]
    }
   ],
   "source": [
    "i = 0\n",
    "while i < 100:\n",
    "    i = i + 1\n",
    "    if i % 13 != 0:\n",
    "        continue\n",
    "    print(i, end = \" \")"
   ]
  },
  {
   "cell_type": "markdown",
   "metadata": {},
   "source": [
    "# 第二題"
   ]
  },
  {
   "cell_type": "code",
   "execution_count": 12,
   "metadata": {},
   "outputs": [
    {
     "name": "stdout",
     "output_type": "stream",
     "text": [
      "請輸入一正整數：9\n",
      "1\t2\t3\t4\t5\t6\t7\t8\t9\t\n",
      "1\t2\t3\t4\t5\t6\t7\t8\t\n",
      "1\t2\t3\t4\t5\t6\t7\t\n",
      "1\t2\t3\t4\t5\t6\t\n",
      "1\t2\t3\t4\t5\t\n",
      "1\t2\t3\t4\t\n",
      "1\t2\t3\t\n",
      "1\t2\t\n",
      "1\t\n"
     ]
    }
   ],
   "source": [
    "n = eval(input(\"請輸入一正整數：\"))\n",
    "\n",
    "for i in range(n , 0, -1) :\n",
    "    for j in range(1, i+1) :\n",
    "        print(j , end = \"\\t\")\n",
    "    print()"
   ]
  },
  {
   "cell_type": "code",
   "execution_count": null,
   "metadata": {},
   "outputs": [],
   "source": []
  }
 ],
 "metadata": {
  "kernelspec": {
   "display_name": "Python 3",
   "language": "python",
   "name": "python3"
  },
  "language_info": {
   "codemirror_mode": {
    "name": "ipython",
    "version": 3
   },
   "file_extension": ".py",
   "mimetype": "text/x-python",
   "name": "python",
   "nbconvert_exporter": "python",
   "pygments_lexer": "ipython3",
   "version": "3.8.8"
  }
 },
 "nbformat": 4,
 "nbformat_minor": 2
}
