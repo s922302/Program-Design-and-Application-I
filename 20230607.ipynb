{
 "cells": [
  {
   "cell_type": "code",
   "execution_count": 2,
   "id": "748db3c5",
   "metadata": {},
   "outputs": [
    {
     "data": {
      "text/plain": [
       "list"
      ]
     },
     "execution_count": 2,
     "metadata": {},
     "output_type": "execute_result"
    }
   ],
   "source": [
    "a = []\n",
    "\n",
    "a.append(3)\n",
    "\n",
    "type(a)"
   ]
  },
  {
   "cell_type": "code",
   "execution_count": 5,
   "id": "3662e4e8",
   "metadata": {},
   "outputs": [],
   "source": [
    "b = tuple(a)"
   ]
  },
  {
   "cell_type": "code",
   "execution_count": 7,
   "id": "f09fc3af",
   "metadata": {},
   "outputs": [
    {
     "data": {
      "text/plain": [
       "tuple"
      ]
     },
     "execution_count": 7,
     "metadata": {},
     "output_type": "execute_result"
    }
   ],
   "source": [
    "type(b)"
   ]
  },
  {
   "cell_type": "code",
   "execution_count": 8,
   "id": "93718ea6",
   "metadata": {},
   "outputs": [
    {
     "data": {
      "text/plain": [
       "[3]"
      ]
     },
     "execution_count": 8,
     "metadata": {},
     "output_type": "execute_result"
    }
   ],
   "source": [
    "d = list(b)\n",
    "\n",
    "d"
   ]
  },
  {
   "cell_type": "code",
   "execution_count": 19,
   "id": "8aa0dcad",
   "metadata": {},
   "outputs": [
    {
     "name": "stdout",
     "output_type": "stream",
     "text": [
      "6\n",
      "6\n",
      "5\n",
      "None\n",
      "300\n"
     ]
    }
   ],
   "source": [
    "dict1 = {\"台北市\":6, \"新北市\":2, \"桃園市\":5, \"台中市\":8, \"台南市\":3, \"高雄市\":9}\n",
    "\n",
    "print(dict1[\"台北市\"])\n",
    "\n",
    "#print(dict1[\"嘉義市\"])\n",
    "\n",
    "print(dict1.get(\"台北市\"))\n",
    "\n",
    "print(dict1.get(\"桃園市\"))\n",
    "\n",
    "print(dict1.get(\"嘉義市\"))\n",
    "\n",
    "print(dict1.get(\"屏東市\", 300))"
   ]
  },
  {
   "cell_type": "code",
   "execution_count": 21,
   "id": "6fb68e79",
   "metadata": {},
   "outputs": [
    {
     "name": "stdout",
     "output_type": "stream",
     "text": [
      "輸入要查詢的六都名稱:屏東市\n",
      "六都中沒有「屏東市」城市！\n"
     ]
    }
   ],
   "source": [
    "dict1 = {\"台北市\":6, \"新北市\":2, \"桃園市\":5, \"台中市\":8, \"台南市\":3, \"高雄市\":9}\n",
    "\n",
    "name = input(\"輸入要查詢的六都名稱:\")\n",
    "\n",
    "PM25 = dict1.get(name)\n",
    "\n",
    "if PM25 == None:  \n",
    "    print(\"六都中沒有「\" + name + \"」城市！\")\n",
    "else:  \n",
    "    print(name + \" 今天的 PM2.5 值為：\" + str(dict1[name]))"
   ]
  },
  {
   "cell_type": "code",
   "execution_count": null,
   "id": "741acf5e",
   "metadata": {},
   "outputs": [],
   "source": []
  }
 ],
 "metadata": {
  "kernelspec": {
   "display_name": "Python 3 (ipykernel)",
   "language": "python",
   "name": "python3"
  },
  "language_info": {
   "codemirror_mode": {
    "name": "ipython",
    "version": 3
   },
   "file_extension": ".py",
   "mimetype": "text/x-python",
   "name": "python",
   "nbconvert_exporter": "python",
   "pygments_lexer": "ipython3",
   "version": "3.10.9"
  }
 },
 "nbformat": 4,
 "nbformat_minor": 5
}
