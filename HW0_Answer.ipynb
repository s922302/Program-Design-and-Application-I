{
 "cells": [
  {
   "cell_type": "code",
   "execution_count": 1,
   "metadata": {},
   "outputs": [
    {
     "name": "stdout",
     "output_type": "stream",
     "text": [
      "請輸入身高 (公分)：180\n",
      "請輸入體重 (公斤)：70\n",
      "身高 180 公分、體重 70 公斤的BMI為 21.604938271604937\n"
     ]
    }
   ],
   "source": [
    "height = eval(input(\"請輸入身高 (公分)：\"))\n",
    "weight = eval(input(\"請輸入體重 (公斤)：\"))\n",
    "BMI = weight / (height / 100) ** 2\n",
    "print(\"身高\", height, \"公分、體重\", weight, \"公斤的BMI為\", BMI)"
   ]
  },
  {
   "cell_type": "code",
   "execution_count": 3,
   "metadata": {},
   "outputs": [
    {
     "name": "stdout",
     "output_type": "stream",
     "text": [
      "請輸入攝氏溫度：35\n",
      "攝氏 35 度可以轉換成華氏 95.0 度\n"
     ]
    }
   ],
   "source": [
    "degreeC = eval(input(\"請輸入攝氏溫度：\"))\n",
    "degreeF = degreeC * 1.8 + 32\n",
    "print(\"攝氏\", degreeC, \"度可以轉換成華氏\", degreeF, \"度\")"
   ]
  },
  {
   "cell_type": "code",
   "execution_count": null,
   "metadata": {},
   "outputs": [],
   "source": []
  }
 ],
 "metadata": {
  "kernelspec": {
   "display_name": "Python 3",
   "language": "python",
   "name": "python3"
  },
  "language_info": {
   "codemirror_mode": {
    "name": "ipython",
    "version": 3
   },
   "file_extension": ".py",
   "mimetype": "text/x-python",
   "name": "python",
   "nbconvert_exporter": "python",
   "pygments_lexer": "ipython3",
   "version": "3.7.4"
  }
 },
 "nbformat": 4,
 "nbformat_minor": 2
}
