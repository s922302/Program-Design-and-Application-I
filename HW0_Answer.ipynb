{
 "cells": [
  {
   "cell_type": "code",
   "execution_count": 1,
   "metadata": {},
   "outputs": [
    {
     "name": "stdout",
     "output_type": "stream",
     "text": [
      "請輸入攝氏溫度：30\n",
      "攝氏 30 度可以轉換成華氏 86.0 度\n"
     ]
    }
   ],
   "source": [
    "degreeC = eval(input(\"請輸入攝氏溫度：\"))\n",
    "degreeF = degreeC * 1.8 + 32\n",
    "print(\"攝氏\", degreeC, \"度可以轉換成華氏\", degreeF, \"度\")"
   ]
  },
  {
   "cell_type": "code",
   "execution_count": 2,
   "metadata": {},
   "outputs": [
    {
     "name": "stdout",
     "output_type": "stream",
     "text": [
      "請輸入第一個數字：40\n",
      "請輸入第二個數字：100\n",
      "40和100的最大公因數是20\n"
     ]
    }
   ],
   "source": [
    "import math\n",
    "num1 = eval(input(\"請輸入第一個數字：\"))\n",
    "num2 = eval(input(\"請輸入第二個數字：\"))\n",
    "print(\"{0}和{1}的最大公因數是{2}\".format(num1, num2, math.gcd(num1, num2)))"
   ]
  },
  {
   "cell_type": "code",
   "execution_count": 6,
   "metadata": {},
   "outputs": [
    {
     "name": "stdout",
     "output_type": "stream",
     "text": [
      "請輸入起飛速度與加速度的值：70, 4.3\n",
      "Minimum runway length is 569.767442 meters\n"
     ]
    }
   ],
   "source": [
    "v , a = eval(input(\"請輸入起飛速度與加速度的值：\"))\n",
    "\n",
    "length = (v ** 2 ) / (2 * a)\n",
    "\n",
    "print('Minimum runway length is %f meters' % (length))"
   ]
  },
  {
   "cell_type": "code",
   "execution_count": null,
   "metadata": {},
   "outputs": [],
   "source": []
  }
 ],
 "metadata": {
  "kernelspec": {
   "display_name": "Python 3 (ipykernel)",
   "language": "python",
   "name": "python3"
  },
  "language_info": {
   "codemirror_mode": {
    "name": "ipython",
    "version": 3
   },
   "file_extension": ".py",
   "mimetype": "text/x-python",
   "name": "python",
   "nbconvert_exporter": "python",
   "pygments_lexer": "ipython3",
   "version": "3.9.7"
  }
 },
 "nbformat": 4,
 "nbformat_minor": 2
}
