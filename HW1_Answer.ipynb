{
 "cells": [
  {
   "cell_type": "markdown",
   "metadata": {},
   "source": [
    "# 第一題"
   ]
  },
  {
   "cell_type": "code",
   "execution_count": 1,
   "metadata": {},
   "outputs": [
    {
     "name": "stdout",
     "output_type": "stream",
     "text": [
      "題目所計算的結果為 0.99609375\n"
     ]
    }
   ],
   "source": [
    "sum1 = 0\n",
    "\n",
    "for i in range(1, 9):    \n",
    "    sum1 = sum1 + (1 / 2) ** i\n",
    "    \n",
    "print(\"題目所計算的結果為 {0}\".format(sum1))"
   ]
  },
  {
   "cell_type": "markdown",
   "metadata": {},
   "source": [
    "# 第二題"
   ]
  },
  {
   "cell_type": "code",
   "execution_count": 1,
   "metadata": {},
   "outputs": [
    {
     "name": "stdout",
     "output_type": "stream",
     "text": [
      "綜合所得淨額 (元)：2000000\n",
      "綜合所得淨額2000000元應該繳交的個人綜所稅為270000.0元\n"
     ]
    }
   ],
   "source": [
    "income = eval(input(\"綜合所得淨額 (元)：\"))\n",
    "\n",
    "\n",
    "if income <= 520000:\n",
    "    tax = income * 0.05\n",
    "elif income <= 1170000 and income > 520000:\n",
    "    tax = 520000 * 0.05 + (income - 520000) * 0.12\n",
    "elif income <= 2350000 and income > 1170000:\n",
    "    tax = 520000 * 0.05 + (1170000 - 520000) * 0.12 + \\\n",
    "          (income - 1170000) * 0.2\n",
    "elif income <= 4400000 and income > 2350000:\n",
    "    tax = 520000 * 0.05 + (1170000 - 520000) * 0.12 + \\\n",
    "          (2350000 - 1170000) * 0.2 + (income - 2350000) * 0.3\n",
    "else:\n",
    "    tax = 520000 * 0.05 + (1170000 - 520000) * 0.12 + \\\n",
    "          (2350000 - 1170000) * 0.2 + (4400000 - 2350000) * 0.3 + \\\n",
    "          (income - 4400000) * 0.4\n",
    "\n",
    "print(\"綜合所得淨額{0}元應該繳交的個人綜所稅為{1}元\".format(income, tax))"
   ]
  },
  {
   "cell_type": "code",
   "execution_count": null,
   "metadata": {},
   "outputs": [],
   "source": []
  }
 ],
 "metadata": {
  "kernelspec": {
   "display_name": "Python 3",
   "language": "python",
   "name": "python3"
  },
  "language_info": {
   "codemirror_mode": {
    "name": "ipython",
    "version": 3
   },
   "file_extension": ".py",
   "mimetype": "text/x-python",
   "name": "python",
   "nbconvert_exporter": "python",
   "pygments_lexer": "ipython3",
   "version": "3.8.5"
  }
 },
 "nbformat": 4,
 "nbformat_minor": 2
}
