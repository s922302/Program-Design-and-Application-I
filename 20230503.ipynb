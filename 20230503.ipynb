{
 "cells": [
  {
   "cell_type": "code",
   "execution_count": 3,
   "id": "d0ae4b2e",
   "metadata": {},
   "outputs": [
    {
     "name": "stdout",
     "output_type": "stream",
     "text": [
      "[1, 2, 3, 4, 5]\n"
     ]
    }
   ],
   "source": [
    "A = []\n",
    "\n",
    "A.append(1)\n",
    "A.append(2)\n",
    "A.append(3)\n",
    "A.append(4)\n",
    "A.append(5)\n",
    "\n",
    "print(A)"
   ]
  },
  {
   "cell_type": "code",
   "execution_count": 5,
   "id": "06486150",
   "metadata": {},
   "outputs": [
    {
     "name": "stdout",
     "output_type": "stream",
     "text": [
      "[1, 2, 3, 4, 5]\n"
     ]
    }
   ],
   "source": [
    "result = []\n",
    "\n",
    "for i in range(1,6) :\n",
    "    result.append(i)\n",
    "print(result)"
   ]
  },
  {
   "cell_type": "code",
   "execution_count": 21,
   "id": "85ae5b73",
   "metadata": {},
   "outputs": [
    {
     "name": "stdout",
     "output_type": "stream",
     "text": [
      "[1, 2, 3, 4, 5]\n"
     ]
    }
   ],
   "source": [
    "result = []\n",
    "\n",
    "for i in range(1,6) :\n",
    "    result.append(i)\n",
    "print(result)"
   ]
  },
  {
   "cell_type": "code",
   "execution_count": 26,
   "id": "b3fd1172",
   "metadata": {},
   "outputs": [
    {
     "name": "stdout",
     "output_type": "stream",
     "text": [
      "[1, 2, 3, 4]\n"
     ]
    }
   ],
   "source": [
    "result1 = [1,2,3]\n",
    "\n",
    "result1.append(4)\n",
    "\n",
    "print(result1)"
   ]
  },
  {
   "cell_type": "code",
   "execution_count": 36,
   "id": "83486181",
   "metadata": {},
   "outputs": [
    {
     "data": {
      "text/plain": [
       "[80, 90, 100]"
      ]
     },
     "execution_count": 36,
     "metadata": {},
     "output_type": "execute_result"
    }
   ],
   "source": [
    "a = 100\n",
    "\n",
    "b = 90\n",
    "\n",
    "c = 80\n",
    "\n",
    "A = [a , b, c]\n",
    "\n",
    "sorted(A, reverse = False)"
   ]
  },
  {
   "cell_type": "code",
   "execution_count": 1,
   "id": "40e70617",
   "metadata": {},
   "outputs": [
    {
     "name": "stdout",
     "output_type": "stream",
     "text": [
      "[21, 35, 1, 7, 3, 9]\n",
      "18\n"
     ]
    }
   ],
   "source": [
    "numbers = [21,4,35,1,8,7,3,6,9]\n",
    "\n",
    "evens_sum = 0\n",
    "\n",
    "odds = []\n",
    "\n",
    "for i in numbers :\n",
    "    if i % 2 == 0 :\n",
    "        evens_sum = evens_sum + i\n",
    "    else :\n",
    "        odds.append(i)\n",
    "print(odds)\n",
    "print(evens_sum)"
   ]
  },
  {
   "cell_type": "code",
   "execution_count": 2,
   "id": "51085da7",
   "metadata": {},
   "outputs": [
    {
     "name": "stdout",
     "output_type": "stream",
     "text": [
      "[21, 35, 1, 7, 3, 9]\n",
      "18\n"
     ]
    }
   ],
   "source": [
    "numbers = [21,4,35,1,8,7,3,6,9]\n",
    "\n",
    "evens_sum = 0\n",
    "\n",
    "odds = []\n",
    "\n",
    "for i in range(len(numbers)) :\n",
    "    if numbers[i] % 2 == 0 :\n",
    "        evens_sum = evens_sum + numbers[i]\n",
    "    else :\n",
    "        odds.append(numbers[i])\n",
    "print(odds)\n",
    "print(evens_sum)"
   ]
  },
  {
   "cell_type": "code",
   "execution_count": null,
   "id": "71f7f743",
   "metadata": {},
   "outputs": [],
   "source": []
  }
 ],
 "metadata": {
  "kernelspec": {
   "display_name": "Python 3 (ipykernel)",
   "language": "python",
   "name": "python3"
  },
  "language_info": {
   "codemirror_mode": {
    "name": "ipython",
    "version": 3
   },
   "file_extension": ".py",
   "mimetype": "text/x-python",
   "name": "python",
   "nbconvert_exporter": "python",
   "pygments_lexer": "ipython3",
   "version": "3.9.13"
  }
 },
 "nbformat": 4,
 "nbformat_minor": 5
}
