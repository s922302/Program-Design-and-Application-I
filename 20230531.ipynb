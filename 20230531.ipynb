{
 "cells": [
  {
   "cell_type": "code",
   "execution_count": 9,
   "id": "e784f5e0",
   "metadata": {},
   "outputs": [
    {
     "name": "stdout",
     "output_type": "stream",
     "text": [
      "314.1592653589793\n",
      "300.1592653589793\n"
     ]
    }
   ],
   "source": [
    "import math\n",
    "\n",
    "def circle_area(r) :\n",
    "    area = math.pi * ( r ** 2 )\n",
    "    return area\n",
    "\n",
    "print(circle_area(10))\n",
    "print(circle_area(10) - 14)"
   ]
  },
  {
   "cell_type": "code",
   "execution_count": 15,
   "id": "e84cedca",
   "metadata": {},
   "outputs": [
    {
     "data": {
      "text/plain": [
       "(314.1592653589793, 62.83185307179586)"
      ]
     },
     "execution_count": 15,
     "metadata": {},
     "output_type": "execute_result"
    }
   ],
   "source": [
    "import math\n",
    "\n",
    "def circle_area(r) :\n",
    "    area = math.pi * ( r ** 2 )\n",
    "    result = 2 * math.pi * r\n",
    "    return area, result\n",
    "\n",
    "circle_area(10)"
   ]
  },
  {
   "cell_type": "code",
   "execution_count": 16,
   "id": "308b07c7",
   "metadata": {},
   "outputs": [],
   "source": [
    "a = 7\n",
    "\n",
    "b = 3\n",
    "\n",
    "a, b = 7 , 3"
   ]
  },
  {
   "cell_type": "code",
   "execution_count": 17,
   "id": "6c691941",
   "metadata": {},
   "outputs": [
    {
     "name": "stdout",
     "output_type": "stream",
     "text": [
      "輸入身高體重:180, 10\n",
      "18.0\n"
     ]
    }
   ],
   "source": [
    "身高, 體重  = eval(input(\"輸入身高體重:\"))\n",
    "\n",
    "print(身高 / 體重)"
   ]
  },
  {
   "cell_type": "code",
   "execution_count": 45,
   "id": "057f0ac9",
   "metadata": {},
   "outputs": [
    {
     "name": "stdout",
     "output_type": "stream",
     "text": [
      "1, -3, 5, -7, 9, -11, 13, -15, 17, -19, 21, -23, 25, -27, 29, -31, 33, -35, 37, -39, 41, -43, 45, -47, 49\n"
     ]
    }
   ],
   "source": [
    "def ser(N):\n",
    "    f = 1\n",
    "    v = 1\n",
    "    for i in range(1, N):\n",
    "        print(v * f, end=', ')\n",
    "        v += 2\n",
    "        f *= -1\n",
    "    print(v*f)\n",
    "\n",
    "ser(25)"
   ]
  },
  {
   "cell_type": "code",
   "execution_count": 44,
   "id": "7934ff69",
   "metadata": {},
   "outputs": [
    {
     "name": "stdout",
     "output_type": "stream",
     "text": [
      "1, -3, 5, -7, 9, -11, 13, -15, 17, -19, 21\n"
     ]
    }
   ],
   "source": [
    "def odd_number(N):\n",
    "    f = 1\n",
    "    for i in range(1, N, 2):\n",
    "        print(i * f, end=', ')\n",
    "        f = f * (-1)\n",
    "    print((i+2)*f)\n",
    "\n",
    "odd_number(21)"
   ]
  },
  {
   "cell_type": "code",
   "execution_count": 50,
   "id": "b2adbdf9",
   "metadata": {},
   "outputs": [
    {
     "name": "stdout",
     "output_type": "stream",
     "text": [
      "1\t\n",
      "2\t3\t\n"
     ]
    }
   ],
   "source": [
    "def f(M):\n",
    "    c = 1\n",
    "    for m in range(M):\n",
    "        for n in range(m+1):\n",
    "            print('{}'.format(c), end='\\t')\n",
    "            c = c + 1\n",
    "        print()\n",
    "\n",
    "f(2)"
   ]
  },
  {
   "cell_type": "code",
   "execution_count": 54,
   "id": "38a6822e",
   "metadata": {},
   "outputs": [
    {
     "name": "stdout",
     "output_type": "stream",
     "text": [
      "請輸入第一個點的座標1,1\n",
      "請輸入第二個點的座標5,8\n",
      "The distance of (1, 1), (5, 8) = 8.06225774829855\n"
     ]
    }
   ],
   "source": [
    "import math\n",
    "\n",
    "def distance(x1, y1, x2, y2) :\n",
    "    dis = math.sqrt( ( ( x1 - x2 ) ** 2 ) + ( ( y1 - y2 ) ** 2 ) )\n",
    "    return dis\n",
    "\n",
    "def main() :\n",
    "    \n",
    "    a, b = eval(input(\"請輸入第一個點的座標\"))\n",
    "    c, d = eval(input(\"請輸入第二個點的座標\"))\n",
    "    \n",
    "    result = distance(a, b, c, d)\n",
    "    print(\"The distance of ({}, {}), ({}, {}) = {}\".format(a, b, c, d, result))\n",
    "\n",
    "main()"
   ]
  },
  {
   "cell_type": "code",
   "execution_count": null,
   "id": "a0f616b8",
   "metadata": {},
   "outputs": [],
   "source": []
  }
 ],
 "metadata": {
  "kernelspec": {
   "display_name": "Python 3 (ipykernel)",
   "language": "python",
   "name": "python3"
  },
  "language_info": {
   "codemirror_mode": {
    "name": "ipython",
    "version": 3
   },
   "file_extension": ".py",
   "mimetype": "text/x-python",
   "name": "python",
   "nbconvert_exporter": "python",
   "pygments_lexer": "ipython3",
   "version": "3.9.13"
  }
 },
 "nbformat": 4,
 "nbformat_minor": 5
}
