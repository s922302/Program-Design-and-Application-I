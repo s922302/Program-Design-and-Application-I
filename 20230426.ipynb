{
 "cells": [
  {
   "cell_type": "code",
   "execution_count": 11,
   "id": "55fa188b",
   "metadata": {},
   "outputs": [
    {
     "name": "stdout",
     "output_type": "stream",
     "text": [
      "輸入一個正整數:1\n",
      "圓周率π的近似值為4.0\n"
     ]
    }
   ],
   "source": [
    "num = eval(input('輸入一個正整數:'))\n",
    "\n",
    "a = 1\n",
    "b = 1\n",
    "temp_value = 0\n",
    "\n",
    "if num == 1 :\n",
    "    temp_value = ( 1 / a * b )\n",
    "else :\n",
    "    for i in range(1, num + 1) :\n",
    "        temp_value = temp_value + ( 1 / a * b )     # temp_value += ( 1 / a * b )\n",
    "        a = a + 2\n",
    "        b = b * (-1)\n",
    "\n",
    "pi_simulation = 4 * temp_value\n",
    "\n",
    "print(\"圓周率π的近似值為{}\".format(pi_simulation))"
   ]
  },
  {
   "cell_type": "code",
   "execution_count": 16,
   "id": "7372708c",
   "metadata": {},
   "outputs": [
    {
     "name": "stdout",
     "output_type": "stream",
     "text": [
      "輸入列數:5\n",
      "1 \n",
      "1 2 \n",
      "1 2 3 \n",
      "1 2 3 4 \n",
      "1 2 3 4 5 \n"
     ]
    }
   ],
   "source": [
    "m = eval(input('輸入列數:'))\n",
    "\n",
    "for i in range(1, m+1) :\n",
    "    for j in range(1, i+1) :\n",
    "        print(j, end = \" \")\n",
    "    print()"
   ]
  },
  {
   "cell_type": "code",
   "execution_count": 17,
   "id": "1100b820",
   "metadata": {},
   "outputs": [
    {
     "name": "stdout",
     "output_type": "stream",
     "text": [
      "輸入列數:4\n",
      "1 \n",
      "1 2 \n",
      "1 2 3 \n",
      "1 2 3 4 \n"
     ]
    }
   ],
   "source": [
    "m = eval(input('輸入列數:'))\n",
    "\n",
    "for i in range(1, m+1) :\n",
    "    for j in range(1, i+1) :\n",
    "        print(j, end = \" \")\n",
    "    else :\n",
    "        print()"
   ]
  },
  {
   "cell_type": "code",
   "execution_count": 1,
   "id": "4d3f2200",
   "metadata": {},
   "outputs": [
    {
     "name": "stdout",
     "output_type": "stream",
     "text": [
      "請隨機從1~10中猜一個數字:7\n",
      "猜錯了！\n",
      "請隨機從1~10中猜一個數字:3\n",
      "猜錯了！\n",
      "請隨機從1~10中猜一個數字:5\n",
      "猜錯了！\n",
      "請隨機從1~10中猜一個數字:9\n",
      "猜錯了！\n",
      "請隨機從1~10中猜一個數字:10\n",
      "猜錯了！\n",
      "請隨機從1~10中猜一個數字:1\n",
      "猜錯了！\n",
      "請隨機從1~10中猜一個數字:2\n",
      "猜錯了！\n",
      "請隨機從1~10中猜一個數字:4\n",
      "猜錯了！\n",
      "請隨機從1~10中猜一個數字:6\n",
      "猜對了！\n"
     ]
    }
   ],
   "source": [
    "import random\n",
    "\n",
    "num = random.randint(1, 10)\n",
    "\n",
    "while True :\n",
    "    guess = eval(input('請隨機從1~10中猜一個數字:'))\n",
    "    \n",
    "    if guess == num :\n",
    "        print(\"猜對了！\")\n",
    "        break\n",
    "    else :\n",
    "        print(\"猜錯了！\")"
   ]
  },
  {
   "cell_type": "code",
   "execution_count": null,
   "id": "0cdbe56d",
   "metadata": {},
   "outputs": [],
   "source": []
  }
 ],
 "metadata": {
  "kernelspec": {
   "display_name": "Python 3",
   "language": "python",
   "name": "python3"
  },
  "language_info": {
   "codemirror_mode": {
    "name": "ipython",
    "version": 3
   },
   "file_extension": ".py",
   "mimetype": "text/x-python",
   "name": "python",
   "nbconvert_exporter": "python",
   "pygments_lexer": "ipython3",
   "version": "3.8.8"
  }
 },
 "nbformat": 4,
 "nbformat_minor": 5
}
